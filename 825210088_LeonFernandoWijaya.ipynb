{
  "cells": [
    {
      "cell_type": "code",
      "source": [
        "from google.colab import files\n",
        "uploaded = files.upload()"
      ],
      "outputs": [
        {
          "output_type": "display_data",
          "data": {
            "text/plain": "<IPython.core.display.HTML object>",
            "text/html": "\n     <input type=\"file\" id=\"files-57a7e801-eacb-4dab-b8e3-a2ff639ce4fa\" name=\"files[]\" multiple disabled\n        style=\"border:none\" />\n     <output id=\"result-57a7e801-eacb-4dab-b8e3-a2ff639ce4fa\">\n      Upload widget is only available when the cell has been executed in the\n      current browser session. Please rerun this cell to enable.\n      </output>\n      <script>// Copyright 2017 Google LLC\n//\n// Licensed under the Apache License, Version 2.0 (the \"License\");\n// you may not use this file except in compliance with the License.\n// You may obtain a copy of the License at\n//\n//      http://www.apache.org/licenses/LICENSE-2.0\n//\n// Unless required by applicable law or agreed to in writing, software\n// distributed under the License is distributed on an \"AS IS\" BASIS,\n// WITHOUT WARRANTIES OR CONDITIONS OF ANY KIND, either express or implied.\n// See the License for the specific language governing permissions and\n// limitations under the License.\n\n/**\n * @fileoverview Helpers for google.colab Python module.\n */\n(function(scope) {\nfunction span(text, styleAttributes = {}) {\n  const element = document.createElement('span');\n  element.textContent = text;\n  for (const key of Object.keys(styleAttributes)) {\n    element.style[key] = styleAttributes[key];\n  }\n  return element;\n}\n\n// Max number of bytes which will be uploaded at a time.\nconst MAX_PAYLOAD_SIZE = 100 * 1024;\n\nfunction _uploadFiles(inputId, outputId) {\n  const steps = uploadFilesStep(inputId, outputId);\n  const outputElement = document.getElementById(outputId);\n  // Cache steps on the outputElement to make it available for the next call\n  // to uploadFilesContinue from Python.\n  outputElement.steps = steps;\n\n  return _uploadFilesContinue(outputId);\n}\n\n// This is roughly an async generator (not supported in the browser yet),\n// where there are multiple asynchronous steps and the Python side is going\n// to poll for completion of each step.\n// This uses a Promise to block the python side on completion of each step,\n// then passes the result of the previous step as the input to the next step.\nfunction _uploadFilesContinue(outputId) {\n  const outputElement = document.getElementById(outputId);\n  const steps = outputElement.steps;\n\n  const next = steps.next(outputElement.lastPromiseValue);\n  return Promise.resolve(next.value.promise).then((value) => {\n    // Cache the last promise value to make it available to the next\n    // step of the generator.\n    outputElement.lastPromiseValue = value;\n    return next.value.response;\n  });\n}\n\n/**\n * Generator function which is called between each async step of the upload\n * process.\n * @param {string} inputId Element ID of the input file picker element.\n * @param {string} outputId Element ID of the output display.\n * @return {!Iterable<!Object>} Iterable of next steps.\n */\nfunction* uploadFilesStep(inputId, outputId) {\n  const inputElement = document.getElementById(inputId);\n  inputElement.disabled = false;\n\n  const outputElement = document.getElementById(outputId);\n  outputElement.innerHTML = '';\n\n  const pickedPromise = new Promise((resolve) => {\n    inputElement.addEventListener('change', (e) => {\n      resolve(e.target.files);\n    });\n  });\n\n  const cancel = document.createElement('button');\n  inputElement.parentElement.appendChild(cancel);\n  cancel.textContent = 'Cancel upload';\n  const cancelPromise = new Promise((resolve) => {\n    cancel.onclick = () => {\n      resolve(null);\n    };\n  });\n\n  // Wait for the user to pick the files.\n  const files = yield {\n    promise: Promise.race([pickedPromise, cancelPromise]),\n    response: {\n      action: 'starting',\n    }\n  };\n\n  cancel.remove();\n\n  // Disable the input element since further picks are not allowed.\n  inputElement.disabled = true;\n\n  if (!files) {\n    return {\n      response: {\n        action: 'complete',\n      }\n    };\n  }\n\n  for (const file of files) {\n    const li = document.createElement('li');\n    li.append(span(file.name, {fontWeight: 'bold'}));\n    li.append(span(\n        `(${file.type || 'n/a'}) - ${file.size} bytes, ` +\n        `last modified: ${\n            file.lastModifiedDate ? file.lastModifiedDate.toLocaleDateString() :\n                                    'n/a'} - `));\n    const percent = span('0% done');\n    li.appendChild(percent);\n\n    outputElement.appendChild(li);\n\n    const fileDataPromise = new Promise((resolve) => {\n      const reader = new FileReader();\n      reader.onload = (e) => {\n        resolve(e.target.result);\n      };\n      reader.readAsArrayBuffer(file);\n    });\n    // Wait for the data to be ready.\n    let fileData = yield {\n      promise: fileDataPromise,\n      response: {\n        action: 'continue',\n      }\n    };\n\n    // Use a chunked sending to avoid message size limits. See b/62115660.\n    let position = 0;\n    do {\n      const length = Math.min(fileData.byteLength - position, MAX_PAYLOAD_SIZE);\n      const chunk = new Uint8Array(fileData, position, length);\n      position += length;\n\n      const base64 = btoa(String.fromCharCode.apply(null, chunk));\n      yield {\n        response: {\n          action: 'append',\n          file: file.name,\n          data: base64,\n        },\n      };\n\n      let percentDone = fileData.byteLength === 0 ?\n          100 :\n          Math.round((position / fileData.byteLength) * 100);\n      percent.textContent = `${percentDone}% done`;\n\n    } while (position < fileData.byteLength);\n  }\n\n  // All done.\n  yield {\n    response: {\n      action: 'complete',\n    }\n  };\n}\n\nscope.google = scope.google || {};\nscope.google.colab = scope.google.colab || {};\nscope.google.colab._files = {\n  _uploadFiles,\n  _uploadFilesContinue,\n};\n})(self);\n</script> "
          },
          "metadata": {}
        },
        {
          "output_type": "stream",
          "name": "stdout",
          "text": "Saving dataiklim.csv to dataiklim.csv\n"
        }
      ],
      "execution_count": 1,
      "metadata": {
        "colab": {
          "base_uri": "https://localhost:8080/",
          "height": 73
        },
        "id": "iHSulSvlqIW0",
        "outputId": "066f8d72-c679-4e2f-f2c3-52220d3b7859"
      }
    },
    {
      "cell_type": "code",
      "source": [
        "import pandas as pd\n",
        "import numpy as np\n",
        "import seaborn as sns\n",
        "import matplotlib.pyplot as plt\n",
        "\n",
        "file = \"dataiklim.csv\"\n",
        "df = pd.read_csv(file)"
      ],
      "outputs": [],
      "execution_count": 2,
      "metadata": {
        "id": "2UcW5tP8qeaj"
      }
    },
    {
      "cell_type": "code",
      "source": [
        "df.head()"
      ],
      "outputs": [
        {
          "output_type": "execute_result",
          "execution_count": 3,
          "data": {
            "text/plain": "      Tanggal  TemperaturMinimum  TemperaturMaksimum  TemperaturRataRata  \\\n0  01/01/2022               25.0                32.4                28.9   \n1  02/01/2022               26.6                32.4                28.2   \n2  03/01/2022               25.8                32.8                29.2   \n3  04/01/2022               25.8                32.4                28.9   \n4  05/01/2022               26.6                33.0                29.4   \n\n   KelembapanRataRata  KecepatanAnginMaksimum  KecepatanAnginRataRata  \n0                75.0                     3.0                     1.0  \n1                82.0                     6.0                     2.0  \n2                72.0                     5.0                     2.0  \n3                71.0                     5.0                     1.0  \n4                75.0                     5.0                     1.0  ",
            "text/html": "\n  <div id=\"df-b1d322c4-b440-4765-ab6d-89071cba8131\">\n    <div class=\"colab-df-container\">\n      <div>\n<style scoped>\n    .dataframe tbody tr th:only-of-type {\n        vertical-align: middle;\n    }\n\n    .dataframe tbody tr th {\n        vertical-align: top;\n    }\n\n    .dataframe thead th {\n        text-align: right;\n    }\n</style>\n<table border=\"1\" class=\"dataframe\">\n  <thead>\n    <tr style=\"text-align: right;\">\n      <th></th>\n      <th>Tanggal</th>\n      <th>TemperaturMinimum</th>\n      <th>TemperaturMaksimum</th>\n      <th>TemperaturRataRata</th>\n      <th>KelembapanRataRata</th>\n      <th>KecepatanAnginMaksimum</th>\n      <th>KecepatanAnginRataRata</th>\n    </tr>\n  </thead>\n  <tbody>\n    <tr>\n      <th>0</th>\n      <td>01/01/2022</td>\n      <td>25.0</td>\n      <td>32.4</td>\n      <td>28.9</td>\n      <td>75.0</td>\n      <td>3.0</td>\n      <td>1.0</td>\n    </tr>\n    <tr>\n      <th>1</th>\n      <td>02/01/2022</td>\n      <td>26.6</td>\n      <td>32.4</td>\n      <td>28.2</td>\n      <td>82.0</td>\n      <td>6.0</td>\n      <td>2.0</td>\n    </tr>\n    <tr>\n      <th>2</th>\n      <td>03/01/2022</td>\n      <td>25.8</td>\n      <td>32.8</td>\n      <td>29.2</td>\n      <td>72.0</td>\n      <td>5.0</td>\n      <td>2.0</td>\n    </tr>\n    <tr>\n      <th>3</th>\n      <td>04/01/2022</td>\n      <td>25.8</td>\n      <td>32.4</td>\n      <td>28.9</td>\n      <td>71.0</td>\n      <td>5.0</td>\n      <td>1.0</td>\n    </tr>\n    <tr>\n      <th>4</th>\n      <td>05/01/2022</td>\n      <td>26.6</td>\n      <td>33.0</td>\n      <td>29.4</td>\n      <td>75.0</td>\n      <td>5.0</td>\n      <td>1.0</td>\n    </tr>\n  </tbody>\n</table>\n</div>\n      <button class=\"colab-df-convert\" onclick=\"convertToInteractive('df-b1d322c4-b440-4765-ab6d-89071cba8131')\"\n              title=\"Convert this dataframe to an interactive table.\"\n              style=\"display:none;\">\n        \n  <svg xmlns=\"http://www.w3.org/2000/svg\" height=\"24px\"viewBox=\"0 0 24 24\"\n       width=\"24px\">\n    <path d=\"M0 0h24v24H0V0z\" fill=\"none\"/>\n    <path d=\"M18.56 5.44l.94 2.06.94-2.06 2.06-.94-2.06-.94-.94-2.06-.94 2.06-2.06.94zm-11 1L8.5 8.5l.94-2.06 2.06-.94-2.06-.94L8.5 2.5l-.94 2.06-2.06.94zm10 10l.94 2.06.94-2.06 2.06-.94-2.06-.94-.94-2.06-.94 2.06-2.06.94z\"/><path d=\"M17.41 7.96l-1.37-1.37c-.4-.4-.92-.59-1.43-.59-.52 0-1.04.2-1.43.59L10.3 9.45l-7.72 7.72c-.78.78-.78 2.05 0 2.83L4 21.41c.39.39.9.59 1.41.59.51 0 1.02-.2 1.41-.59l7.78-7.78 2.81-2.81c.8-.78.8-2.07 0-2.86zM5.41 20L4 18.59l7.72-7.72 1.47 1.35L5.41 20z\"/>\n  </svg>\n      </button>\n      \n  <style>\n    .colab-df-container {\n      display:flex;\n      flex-wrap:wrap;\n      gap: 12px;\n    }\n\n    .colab-df-convert {\n      background-color: #E8F0FE;\n      border: none;\n      border-radius: 50%;\n      cursor: pointer;\n      display: none;\n      fill: #1967D2;\n      height: 32px;\n      padding: 0 0 0 0;\n      width: 32px;\n    }\n\n    .colab-df-convert:hover {\n      background-color: #E2EBFA;\n      box-shadow: 0px 1px 2px rgba(60, 64, 67, 0.3), 0px 1px 3px 1px rgba(60, 64, 67, 0.15);\n      fill: #174EA6;\n    }\n\n    [theme=dark] .colab-df-convert {\n      background-color: #3B4455;\n      fill: #D2E3FC;\n    }\n\n    [theme=dark] .colab-df-convert:hover {\n      background-color: #434B5C;\n      box-shadow: 0px 1px 3px 1px rgba(0, 0, 0, 0.15);\n      filter: drop-shadow(0px 1px 2px rgba(0, 0, 0, 0.3));\n      fill: #FFFFFF;\n    }\n  </style>\n\n      <script>\n        const buttonEl =\n          document.querySelector('#df-b1d322c4-b440-4765-ab6d-89071cba8131 button.colab-df-convert');\n        buttonEl.style.display =\n          google.colab.kernel.accessAllowed ? 'block' : 'none';\n\n        async function convertToInteractive(key) {\n          const element = document.querySelector('#df-b1d322c4-b440-4765-ab6d-89071cba8131');\n          const dataTable =\n            await google.colab.kernel.invokeFunction('convertToInteractive',\n                                                     [key], {});\n          if (!dataTable) return;\n\n          const docLinkHtml = 'Like what you see? Visit the ' +\n            '<a target=\"_blank\" href=https://colab.research.google.com/notebooks/data_table.ipynb>data table notebook</a>'\n            + ' to learn more about interactive tables.';\n          element.innerHTML = '';\n          dataTable['output_type'] = 'display_data';\n          await google.colab.output.renderOutput(dataTable, element);\n          const docLink = document.createElement('div');\n          docLink.innerHTML = docLinkHtml;\n          element.appendChild(docLink);\n        }\n      </script>\n    </div>\n  </div>\n  "
          },
          "metadata": {}
        }
      ],
      "execution_count": 3,
      "metadata": {
        "colab": {
          "base_uri": "https://localhost:8080/",
          "height": 250
        },
        "id": "PjcrNniXqhX-",
        "outputId": "2e63f3b3-2720-48d6-9121-85ff6252ce1e"
      }
    },
    {
      "cell_type": "code",
      "source": [
        "df.iloc[-6:]"
      ],
      "outputs": [
        {
          "output_type": "execute_result",
          "execution_count": 4,
          "data": {
            "text/plain": "        Tanggal  TemperaturMinimum  TemperaturMaksimum  TemperaturRataRata  \\\n359  12/29/2022               23.4                29.2                26.2   \n360  12/30/2022               24.0                30.6                26.3   \n361  12/31/2022               24.6                29.6                26.2   \n362  01/01/2023               23.6                29.8                26.3   \n363  02/01/2023               24.2                29.4                27.5   \n364  03/01/2023               25.0                29.6                26.6   \n\n     KelembapanRataRata  KecepatanAnginMaksimum  KecepatanAnginRataRata  \n359                84.0                     5.0                     1.0  \n360                87.0                     3.0                     NaN  \n361                86.0                     7.0                     1.0  \n362                87.0                     4.0                     1.0  \n363                81.0                     4.0                     2.0  \n364                82.0                     6.0                     1.0  ",
            "text/html": "\n  <div id=\"df-c7e3c3e5-c667-4247-a32b-5dcb18f7370e\">\n    <div class=\"colab-df-container\">\n      <div>\n<style scoped>\n    .dataframe tbody tr th:only-of-type {\n        vertical-align: middle;\n    }\n\n    .dataframe tbody tr th {\n        vertical-align: top;\n    }\n\n    .dataframe thead th {\n        text-align: right;\n    }\n</style>\n<table border=\"1\" class=\"dataframe\">\n  <thead>\n    <tr style=\"text-align: right;\">\n      <th></th>\n      <th>Tanggal</th>\n      <th>TemperaturMinimum</th>\n      <th>TemperaturMaksimum</th>\n      <th>TemperaturRataRata</th>\n      <th>KelembapanRataRata</th>\n      <th>KecepatanAnginMaksimum</th>\n      <th>KecepatanAnginRataRata</th>\n    </tr>\n  </thead>\n  <tbody>\n    <tr>\n      <th>359</th>\n      <td>12/29/2022</td>\n      <td>23.4</td>\n      <td>29.2</td>\n      <td>26.2</td>\n      <td>84.0</td>\n      <td>5.0</td>\n      <td>1.0</td>\n    </tr>\n    <tr>\n      <th>360</th>\n      <td>12/30/2022</td>\n      <td>24.0</td>\n      <td>30.6</td>\n      <td>26.3</td>\n      <td>87.0</td>\n      <td>3.0</td>\n      <td>NaN</td>\n    </tr>\n    <tr>\n      <th>361</th>\n      <td>12/31/2022</td>\n      <td>24.6</td>\n      <td>29.6</td>\n      <td>26.2</td>\n      <td>86.0</td>\n      <td>7.0</td>\n      <td>1.0</td>\n    </tr>\n    <tr>\n      <th>362</th>\n      <td>01/01/2023</td>\n      <td>23.6</td>\n      <td>29.8</td>\n      <td>26.3</td>\n      <td>87.0</td>\n      <td>4.0</td>\n      <td>1.0</td>\n    </tr>\n    <tr>\n      <th>363</th>\n      <td>02/01/2023</td>\n      <td>24.2</td>\n      <td>29.4</td>\n      <td>27.5</td>\n      <td>81.0</td>\n      <td>4.0</td>\n      <td>2.0</td>\n    </tr>\n    <tr>\n      <th>364</th>\n      <td>03/01/2023</td>\n      <td>25.0</td>\n      <td>29.6</td>\n      <td>26.6</td>\n      <td>82.0</td>\n      <td>6.0</td>\n      <td>1.0</td>\n    </tr>\n  </tbody>\n</table>\n</div>\n      <button class=\"colab-df-convert\" onclick=\"convertToInteractive('df-c7e3c3e5-c667-4247-a32b-5dcb18f7370e')\"\n              title=\"Convert this dataframe to an interactive table.\"\n              style=\"display:none;\">\n        \n  <svg xmlns=\"http://www.w3.org/2000/svg\" height=\"24px\"viewBox=\"0 0 24 24\"\n       width=\"24px\">\n    <path d=\"M0 0h24v24H0V0z\" fill=\"none\"/>\n    <path d=\"M18.56 5.44l.94 2.06.94-2.06 2.06-.94-2.06-.94-.94-2.06-.94 2.06-2.06.94zm-11 1L8.5 8.5l.94-2.06 2.06-.94-2.06-.94L8.5 2.5l-.94 2.06-2.06.94zm10 10l.94 2.06.94-2.06 2.06-.94-2.06-.94-.94-2.06-.94 2.06-2.06.94z\"/><path d=\"M17.41 7.96l-1.37-1.37c-.4-.4-.92-.59-1.43-.59-.52 0-1.04.2-1.43.59L10.3 9.45l-7.72 7.72c-.78.78-.78 2.05 0 2.83L4 21.41c.39.39.9.59 1.41.59.51 0 1.02-.2 1.41-.59l7.78-7.78 2.81-2.81c.8-.78.8-2.07 0-2.86zM5.41 20L4 18.59l7.72-7.72 1.47 1.35L5.41 20z\"/>\n  </svg>\n      </button>\n      \n  <style>\n    .colab-df-container {\n      display:flex;\n      flex-wrap:wrap;\n      gap: 12px;\n    }\n\n    .colab-df-convert {\n      background-color: #E8F0FE;\n      border: none;\n      border-radius: 50%;\n      cursor: pointer;\n      display: none;\n      fill: #1967D2;\n      height: 32px;\n      padding: 0 0 0 0;\n      width: 32px;\n    }\n\n    .colab-df-convert:hover {\n      background-color: #E2EBFA;\n      box-shadow: 0px 1px 2px rgba(60, 64, 67, 0.3), 0px 1px 3px 1px rgba(60, 64, 67, 0.15);\n      fill: #174EA6;\n    }\n\n    [theme=dark] .colab-df-convert {\n      background-color: #3B4455;\n      fill: #D2E3FC;\n    }\n\n    [theme=dark] .colab-df-convert:hover {\n      background-color: #434B5C;\n      box-shadow: 0px 1px 3px 1px rgba(0, 0, 0, 0.15);\n      filter: drop-shadow(0px 1px 2px rgba(0, 0, 0, 0.3));\n      fill: #FFFFFF;\n    }\n  </style>\n\n      <script>\n        const buttonEl =\n          document.querySelector('#df-c7e3c3e5-c667-4247-a32b-5dcb18f7370e button.colab-df-convert');\n        buttonEl.style.display =\n          google.colab.kernel.accessAllowed ? 'block' : 'none';\n\n        async function convertToInteractive(key) {\n          const element = document.querySelector('#df-c7e3c3e5-c667-4247-a32b-5dcb18f7370e');\n          const dataTable =\n            await google.colab.kernel.invokeFunction('convertToInteractive',\n                                                     [key], {});\n          if (!dataTable) return;\n\n          const docLinkHtml = 'Like what you see? Visit the ' +\n            '<a target=\"_blank\" href=https://colab.research.google.com/notebooks/data_table.ipynb>data table notebook</a>'\n            + ' to learn more about interactive tables.';\n          element.innerHTML = '';\n          dataTable['output_type'] = 'display_data';\n          await google.colab.output.renderOutput(dataTable, element);\n          const docLink = document.createElement('div');\n          docLink.innerHTML = docLinkHtml;\n          element.appendChild(docLink);\n        }\n      </script>\n    </div>\n  </div>\n  "
          },
          "metadata": {}
        }
      ],
      "execution_count": 4,
      "metadata": {
        "colab": {
          "base_uri": "https://localhost:8080/",
          "height": 281
        },
        "id": "HE6Wc8YmqjpF",
        "outputId": "40549155-e526-4592-a5e5-89556106e365"
      }
    },
    {
      "cell_type": "code",
      "source": [
        "df.info()"
      ],
      "outputs": [
        {
          "output_type": "stream",
          "name": "stdout",
          "text": "<class 'pandas.core.frame.DataFrame'>\nRangeIndex: 365 entries, 0 to 364\nData columns (total 7 columns):\n #   Column                  Non-Null Count  Dtype  \n---  ------                  --------------  -----  \n 0   Tanggal                 365 non-null    object \n 1   TemperaturMinimum       359 non-null    float64\n 2   TemperaturMaksimum      363 non-null    float64\n 3   TemperaturRataRata      365 non-null    float64\n 4   KelembapanRataRata      364 non-null    float64\n 5   KecepatanAnginMaksimum  363 non-null    float64\n 6   KecepatanAnginRataRata  327 non-null    float64\ndtypes: float64(6), object(1)\nmemory usage: 20.1+ KB\n"
        }
      ],
      "execution_count": 5,
      "metadata": {
        "colab": {
          "base_uri": "https://localhost:8080/"
        },
        "id": "Qt1OabLaql1d",
        "outputId": "2e0bc32b-f234-4c46-d02b-6b27bcd15a68"
      }
    },
    {
      "cell_type": "code",
      "source": [
        "df.columns"
      ],
      "outputs": [
        {
          "output_type": "execute_result",
          "execution_count": 6,
          "data": {
            "text/plain": "Index(['Tanggal', 'TemperaturMinimum', 'TemperaturMaksimum',\n       'TemperaturRataRata', 'KelembapanRataRata', 'KecepatanAnginMaksimum',\n       'KecepatanAnginRataRata'],\n      dtype='object')"
          },
          "metadata": {}
        }
      ],
      "execution_count": 6,
      "metadata": {
        "colab": {
          "base_uri": "https://localhost:8080/"
        },
        "id": "ZlHJS73Qqogj",
        "outputId": "1a86ac69-d00c-475f-9e72-d8d743558a6e"
      }
    },
    {
      "cell_type": "code",
      "source": [
        "duplicated = df.duplicated().sum()\n",
        "print(\"there are %d duplicated records\" %(duplicated))"
      ],
      "outputs": [
        {
          "output_type": "stream",
          "name": "stdout",
          "text": "there are 0 duplicated records\n"
        }
      ],
      "execution_count": 7,
      "metadata": {
        "colab": {
          "base_uri": "https://localhost:8080/"
        },
        "id": "T0ilIbeYqqdy",
        "outputId": "c69e41e4-2114-4e44-8bf2-5e3b917df498"
      }
    },
    {
      "cell_type": "code",
      "source": [
        "dff = df.copy()"
      ],
      "outputs": [],
      "execution_count": 8,
      "metadata": {
        "id": "9GFRkgaeqs0s"
      }
    },
    {
      "cell_type": "code",
      "source": [
        "#tampilkan missing data and urutkan dalam urutan secara ascending (naik)\n",
        "missingDataSummary = dff.isna().sum()\n",
        "\n",
        "#hitung persentase of missing data\n",
        "missingDataPercentage = (dff.isnull().sum()/dff.shape[0])\n",
        "\n",
        "#gabungkan dua seri\n",
        "missingData = pd.concat([missingDataSummary,\n",
        "missingDataPercentage], axis=1, keys=['Missing',\n",
        "'Percentage'])\n",
        "missingData.sort_values(ascending=False, by='Missing')"
      ],
      "outputs": [
        {
          "output_type": "execute_result",
          "execution_count": 9,
          "data": {
            "text/plain": "                        Missing  Percentage\nKecepatanAnginRataRata       38    0.104110\nTemperaturMinimum             6    0.016438\nTemperaturMaksimum            2    0.005479\nKecepatanAnginMaksimum        2    0.005479\nKelembapanRataRata            1    0.002740\nTanggal                       0    0.000000\nTemperaturRataRata            0    0.000000",
            "text/html": "\n  <div id=\"df-d03da99c-6065-4c75-a04a-0eecd743cd8f\">\n    <div class=\"colab-df-container\">\n      <div>\n<style scoped>\n    .dataframe tbody tr th:only-of-type {\n        vertical-align: middle;\n    }\n\n    .dataframe tbody tr th {\n        vertical-align: top;\n    }\n\n    .dataframe thead th {\n        text-align: right;\n    }\n</style>\n<table border=\"1\" class=\"dataframe\">\n  <thead>\n    <tr style=\"text-align: right;\">\n      <th></th>\n      <th>Missing</th>\n      <th>Percentage</th>\n    </tr>\n  </thead>\n  <tbody>\n    <tr>\n      <th>KecepatanAnginRataRata</th>\n      <td>38</td>\n      <td>0.104110</td>\n    </tr>\n    <tr>\n      <th>TemperaturMinimum</th>\n      <td>6</td>\n      <td>0.016438</td>\n    </tr>\n    <tr>\n      <th>TemperaturMaksimum</th>\n      <td>2</td>\n      <td>0.005479</td>\n    </tr>\n    <tr>\n      <th>KecepatanAnginMaksimum</th>\n      <td>2</td>\n      <td>0.005479</td>\n    </tr>\n    <tr>\n      <th>KelembapanRataRata</th>\n      <td>1</td>\n      <td>0.002740</td>\n    </tr>\n    <tr>\n      <th>Tanggal</th>\n      <td>0</td>\n      <td>0.000000</td>\n    </tr>\n    <tr>\n      <th>TemperaturRataRata</th>\n      <td>0</td>\n      <td>0.000000</td>\n    </tr>\n  </tbody>\n</table>\n</div>\n      <button class=\"colab-df-convert\" onclick=\"convertToInteractive('df-d03da99c-6065-4c75-a04a-0eecd743cd8f')\"\n              title=\"Convert this dataframe to an interactive table.\"\n              style=\"display:none;\">\n        \n  <svg xmlns=\"http://www.w3.org/2000/svg\" height=\"24px\"viewBox=\"0 0 24 24\"\n       width=\"24px\">\n    <path d=\"M0 0h24v24H0V0z\" fill=\"none\"/>\n    <path d=\"M18.56 5.44l.94 2.06.94-2.06 2.06-.94-2.06-.94-.94-2.06-.94 2.06-2.06.94zm-11 1L8.5 8.5l.94-2.06 2.06-.94-2.06-.94L8.5 2.5l-.94 2.06-2.06.94zm10 10l.94 2.06.94-2.06 2.06-.94-2.06-.94-.94-2.06-.94 2.06-2.06.94z\"/><path d=\"M17.41 7.96l-1.37-1.37c-.4-.4-.92-.59-1.43-.59-.52 0-1.04.2-1.43.59L10.3 9.45l-7.72 7.72c-.78.78-.78 2.05 0 2.83L4 21.41c.39.39.9.59 1.41.59.51 0 1.02-.2 1.41-.59l7.78-7.78 2.81-2.81c.8-.78.8-2.07 0-2.86zM5.41 20L4 18.59l7.72-7.72 1.47 1.35L5.41 20z\"/>\n  </svg>\n      </button>\n      \n  <style>\n    .colab-df-container {\n      display:flex;\n      flex-wrap:wrap;\n      gap: 12px;\n    }\n\n    .colab-df-convert {\n      background-color: #E8F0FE;\n      border: none;\n      border-radius: 50%;\n      cursor: pointer;\n      display: none;\n      fill: #1967D2;\n      height: 32px;\n      padding: 0 0 0 0;\n      width: 32px;\n    }\n\n    .colab-df-convert:hover {\n      background-color: #E2EBFA;\n      box-shadow: 0px 1px 2px rgba(60, 64, 67, 0.3), 0px 1px 3px 1px rgba(60, 64, 67, 0.15);\n      fill: #174EA6;\n    }\n\n    [theme=dark] .colab-df-convert {\n      background-color: #3B4455;\n      fill: #D2E3FC;\n    }\n\n    [theme=dark] .colab-df-convert:hover {\n      background-color: #434B5C;\n      box-shadow: 0px 1px 3px 1px rgba(0, 0, 0, 0.15);\n      filter: drop-shadow(0px 1px 2px rgba(0, 0, 0, 0.3));\n      fill: #FFFFFF;\n    }\n  </style>\n\n      <script>\n        const buttonEl =\n          document.querySelector('#df-d03da99c-6065-4c75-a04a-0eecd743cd8f button.colab-df-convert');\n        buttonEl.style.display =\n          google.colab.kernel.accessAllowed ? 'block' : 'none';\n\n        async function convertToInteractive(key) {\n          const element = document.querySelector('#df-d03da99c-6065-4c75-a04a-0eecd743cd8f');\n          const dataTable =\n            await google.colab.kernel.invokeFunction('convertToInteractive',\n                                                     [key], {});\n          if (!dataTable) return;\n\n          const docLinkHtml = 'Like what you see? Visit the ' +\n            '<a target=\"_blank\" href=https://colab.research.google.com/notebooks/data_table.ipynb>data table notebook</a>'\n            + ' to learn more about interactive tables.';\n          element.innerHTML = '';\n          dataTable['output_type'] = 'display_data';\n          await google.colab.output.renderOutput(dataTable, element);\n          const docLink = document.createElement('div');\n          docLink.innerHTML = docLinkHtml;\n          element.appendChild(docLink);\n        }\n      </script>\n    </div>\n  </div>\n  "
          },
          "metadata": {}
        }
      ],
      "execution_count": 9,
      "metadata": {
        "colab": {
          "base_uri": "https://localhost:8080/",
          "height": 269
        },
        "id": "oE5f7MOdqvEZ",
        "outputId": "c102b35c-4b60-4ca9-83bc-22c80eda06ca"
      }
    },
    {
      "cell_type": "code",
      "source": [
        "dff.info()\n",
        "dff.isna().sum()\n",
        "dff[dff['KecepatanAnginRataRata'].isna()]\n",
        "\n",
        "dff['KecepatanAnginRataRata'] = dff['KecepatanAnginRataRata'].fillna(dff['KecepatanAnginRataRata'].ffill())\n",
        "\n",
        "dff.isna().sum().sort_values(ascending=False)"
      ],
      "outputs": [
        {
          "output_type": "stream",
          "name": "stdout",
          "text": "<class 'pandas.core.frame.DataFrame'>\nRangeIndex: 365 entries, 0 to 364\nData columns (total 7 columns):\n #   Column                  Non-Null Count  Dtype  \n---  ------                  --------------  -----  \n 0   Tanggal                 365 non-null    object \n 1   TemperaturMinimum       359 non-null    float64\n 2   TemperaturMaksimum      363 non-null    float64\n 3   TemperaturRataRata      365 non-null    float64\n 4   KelembapanRataRata      364 non-null    float64\n 5   KecepatanAnginMaksimum  363 non-null    float64\n 6   KecepatanAnginRataRata  327 non-null    float64\ndtypes: float64(6), object(1)\nmemory usage: 20.1+ KB\n"
        },
        {
          "output_type": "execute_result",
          "execution_count": 10,
          "data": {
            "text/plain": "TemperaturMinimum         6\nTemperaturMaksimum        2\nKecepatanAnginMaksimum    2\nKelembapanRataRata        1\nTanggal                   0\nTemperaturRataRata        0\nKecepatanAnginRataRata    0\ndtype: int64"
          },
          "metadata": {}
        }
      ],
      "execution_count": 10,
      "metadata": {
        "colab": {
          "base_uri": "https://localhost:8080/"
        },
        "id": "CwpSmFenqxGT",
        "outputId": "710c2c7a-2043-4c85-ff3b-34770f430c1b"
      }
    },
    {
      "cell_type": "code",
      "source": [
        "dff.info()\n",
        "dff.isna().sum()\n",
        "dff[dff['TemperaturMinimum'].isna()]\n",
        "\n",
        "dff['TemperaturMinimum'] = dff['TemperaturMinimum'].fillna(dff['TemperaturMinimum'].ffill())\n",
        "\n",
        "dff.isna().sum().sort_values(ascending=False)"
      ],
      "outputs": [
        {
          "output_type": "stream",
          "name": "stdout",
          "text": "<class 'pandas.core.frame.DataFrame'>\nRangeIndex: 365 entries, 0 to 364\nData columns (total 7 columns):\n #   Column                  Non-Null Count  Dtype  \n---  ------                  --------------  -----  \n 0   Tanggal                 365 non-null    object \n 1   TemperaturMinimum       359 non-null    float64\n 2   TemperaturMaksimum      363 non-null    float64\n 3   TemperaturRataRata      365 non-null    float64\n 4   KelembapanRataRata      364 non-null    float64\n 5   KecepatanAnginMaksimum  363 non-null    float64\n 6   KecepatanAnginRataRata  365 non-null    float64\ndtypes: float64(6), object(1)\nmemory usage: 20.1+ KB\n"
        },
        {
          "output_type": "execute_result",
          "execution_count": 11,
          "data": {
            "text/plain": "TemperaturMaksimum        2\nKecepatanAnginMaksimum    2\nKelembapanRataRata        1\nTanggal                   0\nTemperaturMinimum         0\nTemperaturRataRata        0\nKecepatanAnginRataRata    0\ndtype: int64"
          },
          "metadata": {}
        }
      ],
      "execution_count": 11,
      "metadata": {
        "colab": {
          "base_uri": "https://localhost:8080/"
        },
        "id": "il8WhitTrBd7",
        "outputId": "557d6f99-1bad-47df-c860-d0b0f60bf146"
      }
    },
    {
      "cell_type": "code",
      "source": [
        "dff.info()\n",
        "dff.isna().sum()\n",
        "dff[dff['TemperaturMaksimum'].isna()]\n",
        "\n",
        "dff['TemperaturMaksimum'] = dff['TemperaturMaksimum'].fillna(dff['TemperaturMaksimum'].ffill())\n",
        "\n",
        "dff.isna().sum().sort_values(ascending=False)"
      ],
      "outputs": [
        {
          "output_type": "stream",
          "name": "stdout",
          "text": "<class 'pandas.core.frame.DataFrame'>\nRangeIndex: 365 entries, 0 to 364\nData columns (total 7 columns):\n #   Column                  Non-Null Count  Dtype  \n---  ------                  --------------  -----  \n 0   Tanggal                 365 non-null    object \n 1   TemperaturMinimum       365 non-null    float64\n 2   TemperaturMaksimum      363 non-null    float64\n 3   TemperaturRataRata      365 non-null    float64\n 4   KelembapanRataRata      364 non-null    float64\n 5   KecepatanAnginMaksimum  363 non-null    float64\n 6   KecepatanAnginRataRata  365 non-null    float64\ndtypes: float64(6), object(1)\nmemory usage: 20.1+ KB\n"
        },
        {
          "output_type": "execute_result",
          "execution_count": 13,
          "data": {
            "text/plain": "KecepatanAnginMaksimum    2\nKelembapanRataRata        1\nTanggal                   0\nTemperaturMinimum         0\nTemperaturMaksimum        0\nTemperaturRataRata        0\nKecepatanAnginRataRata    0\ndtype: int64"
          },
          "metadata": {}
        }
      ],
      "execution_count": 13,
      "metadata": {
        "colab": {
          "base_uri": "https://localhost:8080/"
        },
        "id": "4YUnQMjgrGY5",
        "outputId": "0e8d512a-1605-4037-c8ec-4598005fff01"
      }
    },
    {
      "cell_type": "code",
      "source": [
        "dff.info()\n",
        "dff.isna().sum()\n",
        "dff[dff['KecepatanAnginMaksimum'].isna()]\n",
        "\n",
        "dff['KecepatanAnginMaksimum'] = dff['KecepatanAnginMaksimum'].fillna(dff['KecepatanAnginMaksimum'].ffill())\n",
        "\n",
        "dff.isna().sum().sort_values(ascending=False)"
      ],
      "outputs": [
        {
          "output_type": "stream",
          "name": "stdout",
          "text": "<class 'pandas.core.frame.DataFrame'>\nRangeIndex: 365 entries, 0 to 364\nData columns (total 7 columns):\n #   Column                  Non-Null Count  Dtype  \n---  ------                  --------------  -----  \n 0   Tanggal                 365 non-null    object \n 1   TemperaturMinimum       365 non-null    float64\n 2   TemperaturMaksimum      365 non-null    float64\n 3   TemperaturRataRata      365 non-null    float64\n 4   KelembapanRataRata      364 non-null    float64\n 5   KecepatanAnginMaksimum  363 non-null    float64\n 6   KecepatanAnginRataRata  365 non-null    float64\ndtypes: float64(6), object(1)\nmemory usage: 20.1+ KB\n"
        },
        {
          "output_type": "execute_result",
          "execution_count": 14,
          "data": {
            "text/plain": "KelembapanRataRata        1\nTanggal                   0\nTemperaturMinimum         0\nTemperaturMaksimum        0\nTemperaturRataRata        0\nKecepatanAnginMaksimum    0\nKecepatanAnginRataRata    0\ndtype: int64"
          },
          "metadata": {}
        }
      ],
      "execution_count": 14,
      "metadata": {
        "colab": {
          "base_uri": "https://localhost:8080/"
        },
        "id": "1ZS5C5RwrOr8",
        "outputId": "26087e62-3c43-4838-ac87-8b1a9e904be2"
      }
    },
    {
      "cell_type": "code",
      "source": [
        "dff.info()\n",
        "dff.isna().sum()\n",
        "dff[dff['KelembapanRataRata'].isna()]\n",
        "\n",
        "dff['KelembapanRataRata'] = dff['KelembapanRataRata'].fillna(dff['KelembapanRataRata'].ffill())\n",
        "\n",
        "dff.isna().sum().sort_values(ascending=False)"
      ],
      "outputs": [
        {
          "output_type": "stream",
          "name": "stdout",
          "text": "<class 'pandas.core.frame.DataFrame'>\nRangeIndex: 365 entries, 0 to 364\nData columns (total 7 columns):\n #   Column                  Non-Null Count  Dtype  \n---  ------                  --------------  -----  \n 0   Tanggal                 365 non-null    object \n 1   TemperaturMinimum       365 non-null    float64\n 2   TemperaturMaksimum      365 non-null    float64\n 3   TemperaturRataRata      365 non-null    float64\n 4   KelembapanRataRata      364 non-null    float64\n 5   KecepatanAnginMaksimum  365 non-null    float64\n 6   KecepatanAnginRataRata  365 non-null    float64\ndtypes: float64(6), object(1)\nmemory usage: 20.1+ KB\n"
        },
        {
          "output_type": "execute_result",
          "execution_count": 15,
          "data": {
            "text/plain": "Tanggal                   0\nTemperaturMinimum         0\nTemperaturMaksimum        0\nTemperaturRataRata        0\nKelembapanRataRata        0\nKecepatanAnginMaksimum    0\nKecepatanAnginRataRata    0\ndtype: int64"
          },
          "metadata": {}
        }
      ],
      "execution_count": 15,
      "metadata": {
        "colab": {
          "base_uri": "https://localhost:8080/"
        },
        "id": "kw_xnD8brTsO",
        "outputId": "53285b60-979f-40b8-d24f-975fab10ff54"
      }
    },
    {
      "cell_type": "code",
      "source": [
        "dff.to_excel('/content/CleanDataIklim.xlsx', index=False)"
      ],
      "outputs": [],
      "execution_count": 16,
      "metadata": {
        "id": "0fb0fHk8raiL"
      }
    }
  ],
  "metadata": {
    "colab": {
      "provenance": []
    },
    "kernelspec": {
      "name": "python3",
      "display_name": "Python 3"
    },
    "language_info": {
      "name": "python"
    },
    "nteract": {
      "version": "nteract-front-end@1.0.0"
    }
  },
  "nbformat": 4,
  "nbformat_minor": 0
}